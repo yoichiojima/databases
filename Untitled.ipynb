{
 "cells": [
  {
   "cell_type": "code",
   "execution_count": 42,
   "id": "cbc2cfbd-ddfa-44df-8279-813b29541c1e",
   "metadata": {},
   "outputs": [],
   "source": [
    "from postgres_client import PostgresClient\n",
    "from redis_client import RedisClient\n",
    "from mongodb import MongoDB\n",
    "import json"
   ]
  },
  {
   "cell_type": "code",
   "execution_count": 51,
   "id": "4f457461-bfcf-4ff1-b906-2f0fdfe5ce55",
   "metadata": {},
   "outputs": [],
   "source": [
    "# get from postgres\n",
    "psql = PostgresClient('readonly_user', \"postgres\", \"p\")\n",
    "df = psql.read_sql(\"select * from url;\")"
   ]
  },
  {
   "cell_type": "code",
   "execution_count": 52,
   "id": "ce228da6-af06-44e2-b9f6-d54f1be8991a",
   "metadata": {},
   "outputs": [],
   "source": [
    "# set the data to redis\n",
    "r = RedisClient()\n",
    "r.set('p', json.dumps(df['url'].tolist()))"
   ]
  },
  {
   "cell_type": "code",
   "execution_count": 53,
   "id": "b8dec6d1-f516-4ff1-971a-059240afdd27",
   "metadata": {},
   "outputs": [],
   "source": [
    "# set the data to mongodb\n",
    "mongo = MongoDB().client"
   ]
  },
  {
   "cell_type": "code",
   "execution_count": null,
   "id": "eed2fe10-fd6d-4457-9284-b61bf19a6bbb",
   "metadata": {},
   "outputs": [],
   "source": []
  }
 ],
 "metadata": {
  "kernelspec": {
   "display_name": "Python 3 (ipykernel)",
   "language": "python",
   "name": "python3"
  },
  "language_info": {
   "codemirror_mode": {
    "name": "ipython",
    "version": 3
   },
   "file_extension": ".py",
   "mimetype": "text/x-python",
   "name": "python",
   "nbconvert_exporter": "python",
   "pygments_lexer": "ipython3",
   "version": "3.10.9"
  }
 },
 "nbformat": 4,
 "nbformat_minor": 5
}
